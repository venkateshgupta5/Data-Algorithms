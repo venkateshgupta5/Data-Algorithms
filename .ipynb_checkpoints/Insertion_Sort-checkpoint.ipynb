{
 "cells": [
  {
   "cell_type": "code",
   "execution_count": 1,
   "metadata": {},
   "outputs": [
    {
     "name": "stdout",
     "output_type": "stream",
     "text": [
      "Sorted Array is :-  \n",
      "1\n",
      "2\n",
      "4\n",
      "23\n",
      "45\n",
      "61\n",
      "78\n",
      "678\n"
     ]
    }
   ],
   "source": [
    "#Insertion Sort\n",
    "def insertionSort(arr):\n",
    "    for i in range(1, len(arr)):\n",
    "        \n",
    "        key = arr[i]\n",
    "        j = i-1\n",
    "        \n",
    "        while j>=0 and key<arr[j]:\n",
    "            arr[j+1] = arr[j]\n",
    "            j = j-1\n",
    "        arr[j+1] = key\n",
    "        \n",
    "arr = [2,61, 45, 1, 678, 23, 4, 78]\n",
    "insertionSort(arr)\n",
    "\n",
    "print(\"Sorted Array is :-  \")\n",
    "for i in range(0, len(arr)):\n",
    "    print(arr[i])"
   ]
  },
  {
   "cell_type": "code",
   "execution_count": null,
   "metadata": {},
   "outputs": [],
   "source": []
  },
  {
   "cell_type": "markdown",
   "metadata": {},
   "source": [
    "Worst Case Time Complexity [ Big-O ]: O(n2)\n",
    "\n",
    "Best Case Time Complexity [Big-omega]: O(n)\n",
    "\n",
    "Average Time Complexity [Big-theta]: O(n2)\n",
    "\n",
    "Space Complexity: O(1)"
   ]
  },
  {
   "cell_type": "code",
   "execution_count": null,
   "metadata": {},
   "outputs": [],
   "source": []
  }
 ],
 "metadata": {
  "kernelspec": {
   "display_name": "Python 2",
   "language": "python",
   "name": "python2"
  },
  "language_info": {
   "codemirror_mode": {
    "name": "ipython",
    "version": 2
   },
   "file_extension": ".py",
   "mimetype": "text/x-python",
   "name": "python",
   "nbconvert_exporter": "python",
   "pygments_lexer": "ipython2",
   "version": "2.7.14"
  }
 },
 "nbformat": 4,
 "nbformat_minor": 2
}
