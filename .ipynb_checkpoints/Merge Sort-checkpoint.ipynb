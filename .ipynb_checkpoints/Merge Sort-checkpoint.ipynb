{
 "cells": [
  {
   "cell_type": "code",
   "execution_count": 130,
   "metadata": {
    "scrolled": true
   },
   "outputs": [
    {
     "name": "stdout",
     "output_type": "stream",
     "text": [
      "\n",
      "------------------------------------\n",
      "First List\n",
      "1 \n",
      "Second List\n",
      "0 \n",
      "Merged List\n",
      "0 1 \n",
      "------------------------------------\n",
      "First List\n",
      "0 1 \n",
      "Second List\n",
      "13 \n",
      "Merged List\n",
      "0 1 13 \n",
      "------------------------------------\n",
      "First List\n",
      "5 \n",
      "Second List\n",
      "16 \n",
      "Merged List\n",
      "5 16 \n",
      "------------------------------------\n",
      "First List\n",
      "5 16 \n",
      "Second List\n",
      "7 \n",
      "Merged List\n",
      "5 7 16 \n",
      "------------------------------------\n",
      "First List\n",
      "5 7 16 \n",
      "Second List\n",
      "5 16 7 \n",
      "Merged List\n",
      "5 5 7 16 16 7  \n",
      "Sorted Array is\n",
      "5\n",
      "5\n",
      "7\n",
      "16\n",
      "16\n",
      "7\n"
     ]
    }
   ],
   "source": [
    "def merge(arr,l,m,r):\n",
    "    \n",
    "    n1 = m-l+1\n",
    "    n2 = r-m\n",
    "    \n",
    "    L = [0] * (n1)\n",
    "    R = [0] * (n2)\n",
    "    print(\"\")\n",
    "    print(\"------------------------------------\")\n",
    "    print(\"First List\")\n",
    "    for i in range(0,n1):\n",
    "        L[i] = arr[i+l]\n",
    "        print(L[i]), \n",
    "    \n",
    "    \n",
    "    print(\"\")\n",
    "    print(\"Second List\")    \n",
    "    for j in range(0,n2):\n",
    "        R[j] = arr[j+m+1]\n",
    "        print(R[j]),\n",
    "    \n",
    "    \n",
    "    \n",
    "    #erging the temp arrays\n",
    "    i = 0\n",
    "    j = 0\n",
    "    k = 0\n",
    "    print(\"\")\n",
    "    print(\"Merged List\")\n",
    "    \n",
    "    while i < n1 and j < n2:\n",
    "        if L[i] <= R[j]:\n",
    "            arr[k] = L[i]\n",
    "            print(arr[k]),\n",
    "            i+=1\n",
    "        else:\n",
    "            arr[k] = R[j]\n",
    "            print(arr[k]),\n",
    "            j+=1\n",
    "        k+=1\n",
    "    \n",
    "    while i<n1:\n",
    "        arr[k] = L[i]\n",
    "        print(arr[k]),\n",
    "        i+=1\n",
    "        k+=1\n",
    "        \n",
    "    while j<n2:\n",
    "        arr[k] = R[j]\n",
    "        print(arr[k]),\n",
    "        j+=1\n",
    "        k+=1\n",
    "    \n",
    "        \n",
    "    \n",
    "        \n",
    "def mergeSort(arr,l,r):\n",
    "    if l < r:\n",
    "        m = (l+r)/2\n",
    "        mergeSort(arr,l,m)\n",
    "        mergeSort(arr,m+1,r)\n",
    "        merge(arr,l,m,r)\n",
    "    \n",
    "    \n",
    "arr = [1, 0, 13, 5, 16, 7]\n",
    "\n",
    "n = len(arr)\n",
    "mergeSort(arr,0,n-1)\n",
    "# print(\"The array is\")\n",
    "# n = len(arr)\n",
    "# for i in range(0,n):\n",
    "#     print(arr[i]),\n",
    "\n",
    "# mergeSort(arr,0,n-1)\n",
    "print(\" \")\n",
    "print(\"Sorted Array is\")\n",
    "for i in range(0,n):\n",
    "    print(arr[i])\n",
    "        \n",
    "    "
   ]
  },
  {
   "cell_type": "code",
   "execution_count": null,
   "metadata": {},
   "outputs": [],
   "source": []
  },
  {
   "cell_type": "code",
   "execution_count": null,
   "metadata": {},
   "outputs": [],
   "source": []
  },
  {
   "cell_type": "code",
   "execution_count": null,
   "metadata": {},
   "outputs": [],
   "source": []
  },
  {
   "cell_type": "code",
   "execution_count": null,
   "metadata": {},
   "outputs": [],
   "source": []
  },
  {
   "cell_type": "code",
   "execution_count": null,
   "metadata": {},
   "outputs": [],
   "source": []
  },
  {
   "cell_type": "code",
   "execution_count": null,
   "metadata": {},
   "outputs": [],
   "source": []
  },
  {
   "cell_type": "code",
   "execution_count": null,
   "metadata": {},
   "outputs": [],
   "source": []
  },
  {
   "cell_type": "code",
   "execution_count": null,
   "metadata": {},
   "outputs": [],
   "source": []
  },
  {
   "cell_type": "code",
   "execution_count": null,
   "metadata": {},
   "outputs": [],
   "source": []
  },
  {
   "cell_type": "code",
   "execution_count": null,
   "metadata": {},
   "outputs": [],
   "source": []
  },
  {
   "cell_type": "code",
   "execution_count": null,
   "metadata": {},
   "outputs": [],
   "source": [
    "# "
   ]
  },
  {
   "cell_type": "code",
   "execution_count": null,
   "metadata": {},
   "outputs": [],
   "source": []
  },
  {
   "cell_type": "code",
   "execution_count": null,
   "metadata": {},
   "outputs": [],
   "source": []
  },
  {
   "cell_type": "code",
   "execution_count": null,
   "metadata": {},
   "outputs": [],
   "source": []
  },
  {
   "cell_type": "code",
   "execution_count": null,
   "metadata": {},
   "outputs": [],
   "source": []
  },
  {
   "cell_type": "code",
   "execution_count": null,
   "metadata": {},
   "outputs": [],
   "source": []
  },
  {
   "cell_type": "code",
   "execution_count": null,
   "metadata": {},
   "outputs": [],
   "source": []
  },
  {
   "cell_type": "code",
   "execution_count": null,
   "metadata": {},
   "outputs": [],
   "source": []
  },
  {
   "cell_type": "code",
   "execution_count": null,
   "metadata": {},
   "outputs": [],
   "source": []
  },
  {
   "cell_type": "code",
   "execution_count": null,
   "metadata": {},
   "outputs": [],
   "source": []
  },
  {
   "cell_type": "code",
   "execution_count": null,
   "metadata": {},
   "outputs": [],
   "source": []
  },
  {
   "cell_type": "code",
   "execution_count": null,
   "metadata": {},
   "outputs": [],
   "source": []
  },
  {
   "cell_type": "code",
   "execution_count": null,
   "metadata": {},
   "outputs": [],
   "source": []
  },
  {
   "cell_type": "code",
   "execution_count": null,
   "metadata": {},
   "outputs": [],
   "source": []
  },
  {
   "cell_type": "code",
   "execution_count": null,
   "metadata": {},
   "outputs": [],
   "source": []
  },
  {
   "cell_type": "code",
   "execution_count": null,
   "metadata": {},
   "outputs": [],
   "source": []
  },
  {
   "cell_type": "code",
   "execution_count": null,
   "metadata": {},
   "outputs": [],
   "source": []
  },
  {
   "cell_type": "code",
   "execution_count": null,
   "metadata": {},
   "outputs": [],
   "source": []
  }
 ],
 "metadata": {
  "kernelspec": {
   "display_name": "Python 2",
   "language": "python",
   "name": "python2"
  },
  "language_info": {
   "codemirror_mode": {
    "name": "ipython",
    "version": 2
   },
   "file_extension": ".py",
   "mimetype": "text/x-python",
   "name": "python",
   "nbconvert_exporter": "python",
   "pygments_lexer": "ipython2",
   "version": "2.7.14"
  }
 },
 "nbformat": 4,
 "nbformat_minor": 2
}
